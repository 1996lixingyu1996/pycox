{
 "cells": [
  {
   "cell_type": "markdown",
   "metadata": {},
   "source": [
    "# Cox models: Advanced\n",
    "\n",
    "In this notebook we will train a Cox-Time model. For more basic usage see the cox_models_introduction.ipynb notebook.\n",
    "We need to stress that the choices made here doesn't necessarily result in the best model, but are instead intended to illustrate what this python package can do.\n",
    "\n",
    "We will here fit a Cox-Time model to the SUPPORT data set\n",
    "\n",
    "- Using entity embeddings for categorical variables.\n",
    "- Use the [AdamWR optimizer](https://arxiv.org/pdf/1711.05101.pdf) with cyclical learning rates.\n",
    "- Use the scheeme proposed by [Smith 2017](https://arxiv.org/pdf/1506.01186.pdf) to find a suitable learning rate."
   ]
  },
  {
   "cell_type": "code",
   "execution_count": 1,
   "metadata": {},
   "outputs": [],
   "source": [
    "import numpy as np\n",
    "import pandas as pd\n",
    "import matplotlib.pyplot as plt\n",
    "import torch\n",
    "from torch import nn\n",
    "from pycox import datasets\n",
    "from pycox.models import CoxTime\n",
    "from pycox.evaluation import EvalSurv\n",
    "from torchtuples import tuplefy, optim\n",
    "from torchtuples import callbacks as cb\n",
    "from sklearn.preprocessing import StandardScaler\n",
    "from sklearn_pandas import DataFrameMapper\n",
    "from pycox.preprocessing.feature_transforms import OrderedCategoricalLong\n",
    "from pycox.preprocessing.label_transforms import LabTransCoxTime\n",
    "from torchtuples.practical import MixedInputMLP\n",
    "from pycox.models.cox.cox_cc import LossCoxCC"
   ]
  },
  {
   "cell_type": "markdown",
   "metadata": {},
   "source": [
    "`sklearn_pandas` can be installed with `! pip install sklearn-pandas`"
   ]
  },
  {
   "cell_type": "code",
   "execution_count": 2,
   "metadata": {},
   "outputs": [],
   "source": [
    "np.random.seed(123456)\n",
    "_ = torch.manual_seed(123456)"
   ]
  },
  {
   "cell_type": "markdown",
   "metadata": {},
   "source": [
    "## Dataset\n",
    "\n",
    "We load the SUPPORT data set and split in train, test and validation."
   ]
  },
  {
   "cell_type": "code",
   "execution_count": 3,
   "metadata": {},
   "outputs": [],
   "source": [
    "df_train = datasets.support.read_df()\n",
    "df_test = df_train.sample(frac=0.2)\n",
    "df_train = df_train.drop(df_test.index)\n",
    "df_val = df_train.sample(frac=0.2)\n",
    "df_train = df_train.drop(df_val.index)"
   ]
  },
  {
   "cell_type": "code",
   "execution_count": 4,
   "metadata": {},
   "outputs": [
    {
     "data": {
      "text/html": [
       "<div>\n",
       "<style scoped>\n",
       "    .dataframe tbody tr th:only-of-type {\n",
       "        vertical-align: middle;\n",
       "    }\n",
       "\n",
       "    .dataframe tbody tr th {\n",
       "        vertical-align: top;\n",
       "    }\n",
       "\n",
       "    .dataframe thead th {\n",
       "        text-align: right;\n",
       "    }\n",
       "</style>\n",
       "<table border=\"1\" class=\"dataframe\">\n",
       "  <thead>\n",
       "    <tr style=\"text-align: right;\">\n",
       "      <th></th>\n",
       "      <th>x0</th>\n",
       "      <th>x1</th>\n",
       "      <th>x2</th>\n",
       "      <th>x3</th>\n",
       "      <th>x4</th>\n",
       "      <th>x5</th>\n",
       "      <th>x6</th>\n",
       "      <th>x7</th>\n",
       "      <th>x8</th>\n",
       "      <th>x9</th>\n",
       "      <th>x10</th>\n",
       "      <th>x11</th>\n",
       "      <th>x12</th>\n",
       "      <th>x13</th>\n",
       "      <th>duration</th>\n",
       "      <th>event</th>\n",
       "    </tr>\n",
       "  </thead>\n",
       "  <tbody>\n",
       "    <tr>\n",
       "      <th>0</th>\n",
       "      <td>82.709961</td>\n",
       "      <td>1.0</td>\n",
       "      <td>2.0</td>\n",
       "      <td>1.0</td>\n",
       "      <td>0.0</td>\n",
       "      <td>0.0</td>\n",
       "      <td>0.0</td>\n",
       "      <td>160.0</td>\n",
       "      <td>55.0</td>\n",
       "      <td>16.0</td>\n",
       "      <td>38.195309</td>\n",
       "      <td>142.0</td>\n",
       "      <td>19.000000</td>\n",
       "      <td>1.099854</td>\n",
       "      <td>30.0</td>\n",
       "      <td>1</td>\n",
       "    </tr>\n",
       "    <tr>\n",
       "      <th>1</th>\n",
       "      <td>79.660950</td>\n",
       "      <td>1.0</td>\n",
       "      <td>0.0</td>\n",
       "      <td>1.0</td>\n",
       "      <td>0.0</td>\n",
       "      <td>0.0</td>\n",
       "      <td>1.0</td>\n",
       "      <td>54.0</td>\n",
       "      <td>67.0</td>\n",
       "      <td>16.0</td>\n",
       "      <td>38.000000</td>\n",
       "      <td>142.0</td>\n",
       "      <td>10.000000</td>\n",
       "      <td>0.899902</td>\n",
       "      <td>1527.0</td>\n",
       "      <td>0</td>\n",
       "    </tr>\n",
       "    <tr>\n",
       "      <th>4</th>\n",
       "      <td>71.794983</td>\n",
       "      <td>0.0</td>\n",
       "      <td>1.0</td>\n",
       "      <td>1.0</td>\n",
       "      <td>0.0</td>\n",
       "      <td>0.0</td>\n",
       "      <td>0.0</td>\n",
       "      <td>65.0</td>\n",
       "      <td>135.0</td>\n",
       "      <td>40.0</td>\n",
       "      <td>38.593750</td>\n",
       "      <td>146.0</td>\n",
       "      <td>0.099991</td>\n",
       "      <td>0.399963</td>\n",
       "      <td>7.0</td>\n",
       "      <td>1</td>\n",
       "    </tr>\n",
       "    <tr>\n",
       "      <th>5</th>\n",
       "      <td>49.932980</td>\n",
       "      <td>0.0</td>\n",
       "      <td>1.0</td>\n",
       "      <td>1.0</td>\n",
       "      <td>0.0</td>\n",
       "      <td>0.0</td>\n",
       "      <td>0.0</td>\n",
       "      <td>70.0</td>\n",
       "      <td>105.0</td>\n",
       "      <td>33.0</td>\n",
       "      <td>38.195309</td>\n",
       "      <td>127.0</td>\n",
       "      <td>5.299805</td>\n",
       "      <td>1.199951</td>\n",
       "      <td>50.0</td>\n",
       "      <td>1</td>\n",
       "    </tr>\n",
       "    <tr>\n",
       "      <th>6</th>\n",
       "      <td>62.942989</td>\n",
       "      <td>0.0</td>\n",
       "      <td>5.0</td>\n",
       "      <td>2.0</td>\n",
       "      <td>1.0</td>\n",
       "      <td>0.0</td>\n",
       "      <td>1.0</td>\n",
       "      <td>116.0</td>\n",
       "      <td>130.0</td>\n",
       "      <td>35.0</td>\n",
       "      <td>38.195309</td>\n",
       "      <td>133.0</td>\n",
       "      <td>14.099609</td>\n",
       "      <td>0.799927</td>\n",
       "      <td>381.0</td>\n",
       "      <td>0</td>\n",
       "    </tr>\n",
       "  </tbody>\n",
       "</table>\n",
       "</div>"
      ],
      "text/plain": [
       "          x0   x1   x2   x3   x4   x5   x6     x7     x8    x9        x10  \\\n",
       "0  82.709961  1.0  2.0  1.0  0.0  0.0  0.0  160.0   55.0  16.0  38.195309   \n",
       "1  79.660950  1.0  0.0  1.0  0.0  0.0  1.0   54.0   67.0  16.0  38.000000   \n",
       "4  71.794983  0.0  1.0  1.0  0.0  0.0  0.0   65.0  135.0  40.0  38.593750   \n",
       "5  49.932980  0.0  1.0  1.0  0.0  0.0  0.0   70.0  105.0  33.0  38.195309   \n",
       "6  62.942989  0.0  5.0  2.0  1.0  0.0  1.0  116.0  130.0  35.0  38.195309   \n",
       "\n",
       "     x11        x12       x13  duration  event  \n",
       "0  142.0  19.000000  1.099854      30.0      1  \n",
       "1  142.0  10.000000  0.899902    1527.0      0  \n",
       "4  146.0   0.099991  0.399963       7.0      1  \n",
       "5  127.0   5.299805  1.199951      50.0      1  \n",
       "6  133.0  14.099609  0.799927     381.0      0  "
      ]
     },
     "execution_count": 4,
     "metadata": {},
     "output_type": "execute_result"
    }
   ],
   "source": [
    "df_train.head()"
   ]
  },
  {
   "cell_type": "markdown",
   "metadata": {},
   "source": [
    "## Feature transforms\n",
    "We have 14 covariates, in addition to the durations and event indicators.\n",
    "\n",
    "We will standardize the 8 numerical covariates, and leave the 4 binary variables as is. \n",
    "The 3 categorical variables will be transformed to `int64` integers giving the category. The category 0 is reserved for `None` and very small categories that are set to `None`. "
   ]
  },
  {
   "cell_type": "code",
   "execution_count": 5,
   "metadata": {},
   "outputs": [],
   "source": [
    "cols_standardize =  ['x0', 'x7', 'x8', 'x9', 'x10', 'x11', 'x12', 'x13']\n",
    "cols_leave = ['x1', 'x4', 'x5']\n",
    "cols_categorical =  ['x2', 'x3', 'x6']\n",
    "\n",
    "standardize = [([col], StandardScaler()) for col in cols_standardize]\n",
    "leave = [(col, None) for col in cols_leave]\n",
    "categorical = [(col, OrderedCategoricalLong()) for col in cols_categorical]\n",
    "\n",
    "x_mapper_float = DataFrameMapper(standardize + leave)\n",
    "x_mapper_long = DataFrameMapper(categorical)  # we need a separate mapper to ensure the data type 'int64'"
   ]
  },
  {
   "cell_type": "code",
   "execution_count": 6,
   "metadata": {},
   "outputs": [],
   "source": [
    "x_fit_transform = lambda df: tuplefy(x_mapper_float.fit_transform(df), x_mapper_long.fit_transform(df))\n",
    "x_transform = lambda df: tuplefy(x_mapper_float.transform(df), x_mapper_long.transform(df))"
   ]
  },
  {
   "cell_type": "code",
   "execution_count": 7,
   "metadata": {},
   "outputs": [],
   "source": [
    "x_train = x_fit_transform(df_train)\n",
    "x_val = x_transform(df_val)\n",
    "x_test = x_transform(df_test)"
   ]
  },
  {
   "cell_type": "code",
   "execution_count": 8,
   "metadata": {},
   "outputs": [
    {
     "data": {
      "text/plain": [
       "((5678, 11), (5678, 3))"
      ]
     },
     "execution_count": 8,
     "metadata": {},
     "output_type": "execute_result"
    }
   ],
   "source": [
    "x_train.shapes()"
   ]
  },
  {
   "cell_type": "code",
   "execution_count": 9,
   "metadata": {},
   "outputs": [
    {
     "data": {
      "text/plain": [
       "(dtype('float32'), dtype('int64'))"
      ]
     },
     "execution_count": 9,
     "metadata": {},
     "output_type": "execute_result"
    }
   ],
   "source": [
    "x_train.dtypes()"
   ]
  },
  {
   "cell_type": "markdown",
   "metadata": {},
   "source": [
    "## Label transforms\n",
    "\n",
    "The targets (durations and events) also needs to be arrays of type `'float32'`.\n",
    "We log-transform the durations before we standardize. Labeltransforms are only necessary for Cox-Time and non-of the other Cox methods."
   ]
  },
  {
   "cell_type": "code",
   "execution_count": 10,
   "metadata": {},
   "outputs": [],
   "source": [
    "get_target = lambda df: (df['duration'].values.astype('float32'), df['event'].values.astype('float32'))\n",
    "labtrans = LabTransCoxTime(log_duration=True)\n",
    "y_train = labtrans.fit_transform(*get_target(df_train))\n",
    "y_val = labtrans.transform(*get_target(df_val))\n",
    "durations_test, events_test = get_target(df_test)\n",
    "val = tuplefy(x_val, y_val)"
   ]
  },
  {
   "cell_type": "markdown",
   "metadata": {},
   "source": [
    "## Neural net\n",
    "\n",
    "We make a torch net. If this is new to you, we would recommend [the tutorials by PyTroch](https://pytorch.org/tutorials/).\n",
    "\n",
    "The following is an extension of the `torchtuples.practical.MixedInputMLP` so that it works with CoxTime.\n",
    "By mixed input we refer to that we have both entity embeddings and regular numerical covariates."
   ]
  },
  {
   "cell_type": "code",
   "execution_count": 11,
   "metadata": {},
   "outputs": [],
   "source": [
    "class MixedInputMLPCoxTime(torch.nn.Module):\n",
    "    def __init__(self, in_features, num_embeddings, embedding_dims, num_nodes,\n",
    "                 batch_norm=True, dropout=None):\n",
    "        super().__init__()\n",
    "        in_features = in_features + 1\n",
    "        out_features = 1\n",
    "        self.net = MixedInputMLP(in_features, num_embeddings, embedding_dims, num_nodes,\n",
    "                                 out_features, batch_norm, dropout, output_bias=False)\n",
    "\n",
    "    def forward(self, x_numeric, x_categoric, t):  # need an extra intput for the duration t\n",
    "        x_numeric = torch.cat([x_numeric, t], dim=1)\n",
    "        return self.net(x_numeric, x_categoric)"
   ]
  },
  {
   "cell_type": "markdown",
   "metadata": {},
   "source": [
    "We make embeddings half the size of the number of categories."
   ]
  },
  {
   "cell_type": "code",
   "execution_count": 12,
   "metadata": {},
   "outputs": [],
   "source": [
    "num_embeddings = x_train[1].max(0) + 1\n",
    "embedding_dims = num_embeddings // 2"
   ]
  },
  {
   "cell_type": "code",
   "execution_count": 13,
   "metadata": {},
   "outputs": [
    {
     "data": {
      "text/plain": [
       "(array([8, 7, 4]), array([4, 3, 2]))"
      ]
     },
     "execution_count": 13,
     "metadata": {},
     "output_type": "execute_result"
    }
   ],
   "source": [
    "num_embeddings, embedding_dims"
   ]
  },
  {
   "cell_type": "code",
   "execution_count": 14,
   "metadata": {},
   "outputs": [],
   "source": [
    "in_features = x_train[0].shape[1]\n",
    "num_nodes = [32, 32, 32, 32]\n",
    "batch_norm = True\n",
    "dropout = 0.1\n",
    "net = MixedInputMLPCoxTime(in_features, num_embeddings, embedding_dims, num_nodes, batch_norm, dropout)"
   ]
  },
  {
   "cell_type": "code",
   "execution_count": 15,
   "metadata": {},
   "outputs": [
    {
     "data": {
      "text/plain": [
       "MixedInputMLPCoxTime(\n",
       "  (net): MixedInputMLP(\n",
       "    (embeddings): EntityEmbeddings(\n",
       "      (embeddings): ModuleList(\n",
       "        (0): Embedding(8, 4)\n",
       "        (1): Embedding(7, 3)\n",
       "        (2): Embedding(4, 2)\n",
       "      )\n",
       "    )\n",
       "    (mlp): MLPVanilla(\n",
       "      (net): Sequential(\n",
       "        (0): DenseVanillaBlock(\n",
       "          (linear): Linear(in_features=21, out_features=32, bias=True)\n",
       "          (activation): ReLU()\n",
       "          (batch_norm): BatchNorm1d(32, eps=1e-05, momentum=0.1, affine=True, track_running_stats=True)\n",
       "          (dropout): Dropout(p=0.1)\n",
       "        )\n",
       "        (1): DenseVanillaBlock(\n",
       "          (linear): Linear(in_features=32, out_features=32, bias=True)\n",
       "          (activation): ReLU()\n",
       "          (batch_norm): BatchNorm1d(32, eps=1e-05, momentum=0.1, affine=True, track_running_stats=True)\n",
       "          (dropout): Dropout(p=0.1)\n",
       "        )\n",
       "        (2): DenseVanillaBlock(\n",
       "          (linear): Linear(in_features=32, out_features=32, bias=True)\n",
       "          (activation): ReLU()\n",
       "          (batch_norm): BatchNorm1d(32, eps=1e-05, momentum=0.1, affine=True, track_running_stats=True)\n",
       "          (dropout): Dropout(p=0.1)\n",
       "        )\n",
       "        (3): DenseVanillaBlock(\n",
       "          (linear): Linear(in_features=32, out_features=32, bias=True)\n",
       "          (activation): ReLU()\n",
       "          (batch_norm): BatchNorm1d(32, eps=1e-05, momentum=0.1, affine=True, track_running_stats=True)\n",
       "          (dropout): Dropout(p=0.1)\n",
       "        )\n",
       "        (4): Linear(in_features=32, out_features=1, bias=False)\n",
       "      )\n",
       "    )\n",
       "  )\n",
       ")"
      ]
     },
     "execution_count": 15,
     "metadata": {},
     "output_type": "execute_result"
    }
   ],
   "source": [
    "net"
   ]
  },
  {
   "cell_type": "markdown",
   "metadata": {},
   "source": [
    "## Fitting model"
   ]
  },
  {
   "cell_type": "markdown",
   "metadata": {},
   "source": [
    "We make an AdamWR optimizer where we multiply the learning rate wtih 0.8 at the start of every cycle. We also add shrinkage (see Cox-Time paper) of 0.01"
   ]
  },
  {
   "cell_type": "code",
   "execution_count": 16,
   "metadata": {},
   "outputs": [],
   "source": [
    "optimizer = optim.AdamWR(decoupled_weight_decay=0.01, cycle_eta_multiplier=0.8)\n",
    "model = CoxTime(net, optimizer, shrink=0.01)"
   ]
  },
  {
   "cell_type": "markdown",
   "metadata": {},
   "source": [
    "We can use `lr_finder` to find a suitable initial learning rate. This method also sets the learning rate for the net."
   ]
  },
  {
   "cell_type": "code",
   "execution_count": 17,
   "metadata": {},
   "outputs": [
    {
     "data": {
      "text/plain": [
       "0.07390722033525823"
      ]
     },
     "execution_count": 17,
     "metadata": {},
     "output_type": "execute_result"
    },
    {
     "data": {
      "image/png": "[encoded data removed]",
      "text/plain": [
       "<Figure size 432x288 with 1 Axes>"
      ]
     },
     "metadata": {
      "needs_background": "light"
     },
     "output_type": "display_data"
    }
   ],
   "source": [
    "batch_size = 256\n",
    "n_control = 1  # Number of sampled controls (see Cox-Time paper)\n",
    "lrfind = model.lr_finder(x_train, y_train, batch_size, tolerance=1)\n",
    "lrfind.plot()\n",
    "lrfind.get_best_lr()"
   ]
  },
  {
   "cell_type": "code",
   "execution_count": 18,
   "metadata": {},
   "outputs": [
    {
     "data": {
      "text/plain": [
       "0.07390722033525823"
      ]
     },
     "execution_count": 18,
     "metadata": {},
     "output_type": "execute_result"
    }
   ],
   "source": [
    "model.optimizer.param_groups[0]['lr']"
   ]
  },
  {
   "cell_type": "markdown",
   "metadata": {},
   "source": [
    "We have found that `get_best_lr` sometimes gives a little high learning rate, so  we instead set it to 0.01"
   ]
  },
  {
   "cell_type": "code",
   "execution_count": 19,
   "metadata": {},
   "outputs": [
    {
     "data": {
      "text/plain": [
       "0.01"
      ]
     },
     "execution_count": 19,
     "metadata": {},
     "output_type": "execute_result"
    }
   ],
   "source": [
    "model.optimizer.set_lr(0.01)\n",
    "model.optimizer.param_groups[0]['lr']"
   ]
  },
  {
   "cell_type": "markdown",
   "metadata": {},
   "source": [
    "As we have introduced shrinkage to the loss function, we also want to monitor the negative log-likelihood (nll) duraing trainig. We can add this to metrics.\n",
    "\n",
    "For early stopping, we will use a callback that will stop at the end of the cycle if the current best model was not obtained in the current cycle.\n",
    "We use the negative log-likelihood of the validation set for early stopping."
   ]
  },
  {
   "cell_type": "code",
   "execution_count": 20,
   "metadata": {},
   "outputs": [],
   "source": [
    "epochs = 512\n",
    "metrics = {'nll': LossCoxCC()}\n",
    "callbacks = [cb.EarlyStoppingCycle(metric='nll', min_delta=0.001)]\n",
    "verbose = False # set to True if you want printout"
   ]
  },
  {
   "cell_type": "code",
   "execution_count": 21,
   "metadata": {},
   "outputs": [
    {
     "name": "stdout",
     "output_type": "stream",
     "text": [
      "CPU times: user 1min 32s, sys: 13.8 s, total: 1min 46s\n",
      "Wall time: 43.7 s\n"
     ]
    }
   ],
   "source": [
    "%%time\n",
    "log = model.fit(x_train, y_train, batch_size, epochs, callbacks, verbose,\n",
    "                val_data=val.repeat(4).cat(), metrics=metrics)"
   ]
  },
  {
   "cell_type": "code",
   "execution_count": 22,
   "metadata": {},
   "outputs": [
    {
     "data": {
      "image/png": "[encoded data removed]",
      "text/plain": [
       "<Figure size 432x288 with 1 Axes>"
      ]
     },
     "metadata": {
      "needs_background": "light"
     },
     "output_type": "display_data"
    }
   ],
   "source": [
    "_ = log.to_pandas()[['train_loss', 'val_loss']].plot()"
   ]
  },
  {
   "cell_type": "code",
   "execution_count": 23,
   "metadata": {},
   "outputs": [
    {
     "data": {
      "image/png": "[encoded data removed]",
      "text/plain": [
       "<Figure size 432x288 with 1 Axes>"
      ]
     },
     "metadata": {
      "needs_background": "light"
     },
     "output_type": "display_data"
    }
   ],
   "source": [
    "_ = log.to_pandas()[['train_nll', 'val_nll']].plot()"
   ]
  },
  {
   "cell_type": "code",
   "execution_count": 24,
   "metadata": {},
   "outputs": [],
   "source": [
    "_ = model.compute_baseline_hazards()"
   ]
  },
  {
   "cell_type": "code",
   "execution_count": 25,
   "metadata": {},
   "outputs": [],
   "source": [
    "surv = model.predict_survival_function(x_test)\n",
    "surv.index = labtrans.map_scaled_to_orig(surv.index)"
   ]
  },
  {
   "cell_type": "code",
   "execution_count": 26,
   "metadata": {},
   "outputs": [],
   "source": [
    "ev = EvalSurv(surv, durations_test, events_test, censor_surv='km')"
   ]
  },
  {
   "cell_type": "code",
   "execution_count": 27,
   "metadata": {},
   "outputs": [
    {
     "data": {
      "text/plain": [
       "0.6270606965519134"
      ]
     },
     "execution_count": 27,
     "metadata": {},
     "output_type": "execute_result"
    }
   ],
   "source": [
    "ev.concordance_td()"
   ]
  },
  {
   "cell_type": "code",
   "execution_count": 28,
   "metadata": {},
   "outputs": [
    {
     "data": {
      "text/plain": [
       "0.19113983848318378"
      ]
     },
     "execution_count": 28,
     "metadata": {},
     "output_type": "execute_result"
    }
   ],
   "source": [
    "time_grid = np.linspace(durations_test.min(), durations_test.max(), 100)\n",
    "ev.integrated_brier_score(time_grid)"
   ]
  },
  {
   "cell_type": "code",
   "execution_count": 29,
   "metadata": {},
   "outputs": [
    {
     "data": {
      "text/plain": [
       "-0.56312244733674"
      ]
     },
     "execution_count": 29,
     "metadata": {},
     "output_type": "execute_result"
    }
   ],
   "source": [
    "ev.integrated_mbll(time_grid)"
   ]
  },
  {
   "cell_type": "code",
   "execution_count": null,
   "metadata": {},
   "outputs": [],
   "source": []
  }
 ],
 "metadata": {
  "kernelspec": {
   "display_name": "Python 3",
   "language": "python",
   "name": "python3"
  },
  "language_info": {
   "codemirror_mode": {
    "name": "ipython",
    "version": 3
   },
   "file_extension": ".py",
   "mimetype": "text/x-python",
   "name": "python",
   "nbconvert_exporter": "python",
   "pygments_lexer": "ipython3",
   "version": "3.7.3"
  }
 },
 "nbformat": 4,
 "nbformat_minor": 2
}
