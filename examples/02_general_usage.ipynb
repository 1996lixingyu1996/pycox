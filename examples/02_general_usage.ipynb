{
 "cells": [
  {
   "cell_type": "markdown",
   "metadata": {},
   "source": [
    "# Introduction to pycox\n",
    "\n",
    "We will here repeat the experiments from 01_quick_start.ipynb, but in a more configurable manner.\n",
    "\n",
    "**NOTE: These modes are in no way optimal! They are small and poorly tuned, just so they are fast to run on a laptop.**"
   ]
  },
  {
   "cell_type": "code",
   "execution_count": 1,
   "metadata": {},
   "outputs": [],
   "source": [
    "import numpy as np\n",
    "import pandas as pd\n",
    "import matplotlib.pyplot as plt\n",
    "plt.style.use('seaborn')\n",
    "%matplotlib inline"
   ]
  },
  {
   "cell_type": "code",
   "execution_count": 2,
   "metadata": {},
   "outputs": [],
   "source": [
    "from pycox.models.cox import CoxPH, CoxTime\n",
    "# from pycox.models.high_level import CoxPHLinear, CoxTimeReluNet, CoxPHReluNet\n",
    "import pycox.simulations as sims\n",
    "import pycox.callbacks.callbacks as cb"
   ]
  },
  {
   "cell_type": "markdown",
   "metadata": {},
   "source": [
    "# Simulations\n",
    "\n",
    "We create a simulated dataset withe survival times as function of 3 covariates.\n",
    "\n",
    "See paper (ref pycox paper) if you want to understand the details."
   ]
  },
  {
   "cell_type": "code",
   "execution_count": 3,
   "metadata": {},
   "outputs": [],
   "source": [
    "np.random.seed(123)"
   ]
  },
  {
   "cell_type": "code",
   "execution_count": 4,
   "metadata": {},
   "outputs": [],
   "source": [
    "h0 = 0.01 # baseline hazard\n",
    "max_duration = 30. # Censor durateions larger than 30\n",
    "c0 = 30. # Cencoring distribution\n",
    "sim = sims.NonLinearNonPH(h0, max_duration, c0)"
   ]
  },
  {
   "cell_type": "code",
   "execution_count": 5,
   "metadata": {},
   "outputs": [],
   "source": [
    "n_tr = 10000 # Training samples\n",
    "n_val = 1000 # Validation samples\n",
    "n_te = 1000 # Testing samples"
   ]
  },
  {
   "cell_type": "code",
   "execution_count": 6,
   "metadata": {},
   "outputs": [],
   "source": [
    "Xtr, t_tr, e_tr = sim.simulate(n_tr) # [X, times, event indicators]\n",
    "Xval, t_val, e_val = sim.simulate(n_val) \n",
    "Xte, t_te, e_te = sim.simulate(n_te) "
   ]
  },
  {
   "cell_type": "code",
   "execution_count": 7,
   "metadata": {},
   "outputs": [],
   "source": [
    "def make_df(X, t, e):\n",
    "    return (pd.DataFrame(X, columns=['x0', 'x1', 'x2'])\n",
    "            .assign(time=t, event=e))"
   ]
  },
  {
   "cell_type": "code",
   "execution_count": 8,
   "metadata": {},
   "outputs": [],
   "source": [
    "train = make_df(Xtr, t_tr, e_tr)\n",
    "val = make_df(Xval, t_val, e_val)\n",
    "test = make_df(Xte, t_te, e_te)"
   ]
  },
  {
   "cell_type": "code",
   "execution_count": 9,
   "metadata": {},
   "outputs": [
    {
     "data": {
      "text/html": [
       "<div>\n",
       "<style scoped>\n",
       "    .dataframe tbody tr th:only-of-type {\n",
       "        vertical-align: middle;\n",
       "    }\n",
       "\n",
       "    .dataframe tbody tr th {\n",
       "        vertical-align: top;\n",
       "    }\n",
       "\n",
       "    .dataframe thead th {\n",
       "        text-align: right;\n",
       "    }\n",
       "</style>\n",
       "<table border=\"1\" class=\"dataframe\">\n",
       "  <thead>\n",
       "    <tr style=\"text-align: right;\">\n",
       "      <th></th>\n",
       "      <th>x0</th>\n",
       "      <th>x1</th>\n",
       "      <th>x2</th>\n",
       "      <th>time</th>\n",
       "      <th>event</th>\n",
       "    </tr>\n",
       "  </thead>\n",
       "  <tbody>\n",
       "    <tr>\n",
       "      <th>0</th>\n",
       "      <td>0.392938</td>\n",
       "      <td>-0.427721</td>\n",
       "      <td>-0.546297</td>\n",
       "      <td>0.916210</td>\n",
       "      <td>False</td>\n",
       "    </tr>\n",
       "    <tr>\n",
       "      <th>1</th>\n",
       "      <td>0.102630</td>\n",
       "      <td>0.438938</td>\n",
       "      <td>-0.153787</td>\n",
       "      <td>23.354235</td>\n",
       "      <td>True</td>\n",
       "    </tr>\n",
       "    <tr>\n",
       "      <th>2</th>\n",
       "      <td>0.961528</td>\n",
       "      <td>0.369659</td>\n",
       "      <td>-0.038136</td>\n",
       "      <td>6.506384</td>\n",
       "      <td>True</td>\n",
       "    </tr>\n",
       "    <tr>\n",
       "      <th>3</th>\n",
       "      <td>-0.215765</td>\n",
       "      <td>-0.313644</td>\n",
       "      <td>0.458099</td>\n",
       "      <td>17.113842</td>\n",
       "      <td>True</td>\n",
       "    </tr>\n",
       "    <tr>\n",
       "      <th>4</th>\n",
       "      <td>-0.122856</td>\n",
       "      <td>-0.880644</td>\n",
       "      <td>-0.203911</td>\n",
       "      <td>19.123400</td>\n",
       "      <td>True</td>\n",
       "    </tr>\n",
       "  </tbody>\n",
       "</table>\n",
       "</div>"
      ],
      "text/plain": [
       "         x0        x1        x2       time  event\n",
       "0  0.392938 -0.427721 -0.546297   0.916210  False\n",
       "1  0.102630  0.438938 -0.153787  23.354235   True\n",
       "2  0.961528  0.369659 -0.038136   6.506384   True\n",
       "3 -0.215765 -0.313644  0.458099  17.113842   True\n",
       "4 -0.122856 -0.880644 -0.203911  19.123400   True"
      ]
     },
     "execution_count": 9,
     "metadata": {},
     "output_type": "execute_result"
    }
   ],
   "source": [
    "train.head()"
   ]
  },
  {
   "cell_type": "markdown",
   "metadata": {},
   "source": [
    "## Features scaling\n",
    "\n",
    "Covariates needs to be standardized. \n",
    "We use the DataFrame mapper from sklearn_pandas, but you are free to scale them however you want.\n",
    "\n",
    "Here we also scale time (with MapperCoxTime), this is only necessary for the Cox-Time models, and does not affect the Cox models with proportional hazards."
   ]
  },
  {
   "cell_type": "code",
   "execution_count": 10,
   "metadata": {},
   "outputs": [],
   "source": [
    "from pycox.utils.utils import MapperCoxTime\n",
    "from sklearn_pandas import DataFrameMapper\n",
    "from sklearn.preprocessing import StandardScaler"
   ]
  },
  {
   "cell_type": "code",
   "execution_count": 11,
   "metadata": {},
   "outputs": [],
   "source": [
    "stdscale_cols = [([col], StandardScaler()) for col in train.columns.drop(['time', 'event'])]\n",
    "cov_mapper = DataFrameMapper(stdscale_cols)\n",
    "mapper = MapperCoxTime(cov_mapper, 'time', 'event')"
   ]
  },
  {
   "cell_type": "code",
   "execution_count": 12,
   "metadata": {},
   "outputs": [],
   "source": [
    "df_train = mapper.fit_transform(train)\n",
    "df_val = mapper.transform(val)\n",
    "df_test = mapper.transform(test)"
   ]
  },
  {
   "cell_type": "code",
   "execution_count": 13,
   "metadata": {},
   "outputs": [
    {
     "data": {
      "text/html": [
       "<div>\n",
       "<style scoped>\n",
       "    .dataframe tbody tr th:only-of-type {\n",
       "        vertical-align: middle;\n",
       "    }\n",
       "\n",
       "    .dataframe tbody tr th {\n",
       "        vertical-align: top;\n",
       "    }\n",
       "\n",
       "    .dataframe thead th {\n",
       "        text-align: right;\n",
       "    }\n",
       "</style>\n",
       "<table border=\"1\" class=\"dataframe\">\n",
       "  <thead>\n",
       "    <tr style=\"text-align: right;\">\n",
       "      <th></th>\n",
       "      <th>x0</th>\n",
       "      <th>x1</th>\n",
       "      <th>x2</th>\n",
       "      <th>time</th>\n",
       "      <th>event</th>\n",
       "    </tr>\n",
       "  </thead>\n",
       "  <tbody>\n",
       "    <tr>\n",
       "      <th>0</th>\n",
       "      <td>0.693886</td>\n",
       "      <td>-0.749048</td>\n",
       "      <td>-0.952026</td>\n",
       "      <td>-1.086793</td>\n",
       "      <td>False</td>\n",
       "    </tr>\n",
       "    <tr>\n",
       "      <th>1</th>\n",
       "      <td>0.189430</td>\n",
       "      <td>0.763565</td>\n",
       "      <td>-0.271929</td>\n",
       "      <td>1.430482</td>\n",
       "      <td>True</td>\n",
       "    </tr>\n",
       "    <tr>\n",
       "      <th>2</th>\n",
       "      <td>1.681897</td>\n",
       "      <td>0.642651</td>\n",
       "      <td>-0.071542</td>\n",
       "      <td>-0.459643</td>\n",
       "      <td>True</td>\n",
       "    </tr>\n",
       "    <tr>\n",
       "      <th>3</th>\n",
       "      <td>-0.363829</td>\n",
       "      <td>-0.549944</td>\n",
       "      <td>0.788279</td>\n",
       "      <td>0.730386</td>\n",
       "      <td>True</td>\n",
       "    </tr>\n",
       "    <tr>\n",
       "      <th>4</th>\n",
       "      <td>-0.202384</td>\n",
       "      <td>-1.539551</td>\n",
       "      <td>-0.358779</td>\n",
       "      <td>0.955834</td>\n",
       "      <td>True</td>\n",
       "    </tr>\n",
       "  </tbody>\n",
       "</table>\n",
       "</div>"
      ],
      "text/plain": [
       "         x0        x1        x2      time  event\n",
       "0  0.693886 -0.749048 -0.952026 -1.086793  False\n",
       "1  0.189430  0.763565 -0.271929  1.430482   True\n",
       "2  1.681897  0.642651 -0.071542 -0.459643   True\n",
       "3 -0.363829 -0.549944  0.788279  0.730386   True\n",
       "4 -0.202384 -1.539551 -0.358779  0.955834   True"
      ]
     },
     "execution_count": 13,
     "metadata": {},
     "output_type": "execute_result"
    }
   ],
   "source": [
    "df_train.head()"
   ]
  },
  {
   "cell_type": "markdown",
   "metadata": {},
   "source": [
    "# Cox-SGD\n",
    "\n",
    "Regular proportional Cox regression, with linear $g(x)$ .\n",
    "\n",
    "$h(t, x) = h_0(t) \\exp[g(x)]$"
   ]
  },
  {
   "cell_type": "code",
   "execution_count": 14,
   "metadata": {},
   "outputs": [],
   "source": [
    "input_size = df_train.drop(['time', 'event'], axis=1).shape[1]"
   ]
  },
  {
   "cell_type": "markdown",
   "metadata": {},
   "source": [
    "### Linear pytorch model\n",
    "\n",
    "For simple pytorch models, we can just use nn.Sequential."
   ]
  },
  {
   "cell_type": "code",
   "execution_count": 15,
   "metadata": {},
   "outputs": [],
   "source": [
    "import torch\n",
    "from torch import nn, optim"
   ]
  },
  {
   "cell_type": "code",
   "execution_count": 16,
   "metadata": {},
   "outputs": [],
   "source": [
    "linear_g = nn.Sequential(nn.Linear(input_size, 1, bias=False))\n",
    "optimizer = optim.Adam(linear_g.parameters(), lr=0.001)"
   ]
  },
  {
   "cell_type": "code",
   "execution_count": 17,
   "metadata": {},
   "outputs": [],
   "source": [
    "cox_sgd = CoxPH(linear_g, optimizer, device='cpu')"
   ]
  },
  {
   "cell_type": "code",
   "execution_count": 18,
   "metadata": {},
   "outputs": [
    {
     "name": "stdout",
     "output_type": "stream",
     "text": [
      "CPU times: user 7.98 s, sys: 299 ms, total: 8.28 s\n",
      "Wall time: 8.92 s\n"
     ]
    }
   ],
   "source": [
    "%%time\n",
    "log = cox_sgd.fit(df_train, 'time', 'event', epochs=100, verbose=False)"
   ]
  },
  {
   "cell_type": "code",
   "execution_count": 19,
   "metadata": {},
   "outputs": [
    {
     "data": {
      "image/png": "[encoded data removed]",
      "text/plain": [
       "<Figure size 432x288 with 1 Axes>"
      ]
     },
     "metadata": {},
     "output_type": "display_data"
    }
   ],
   "source": [
    "_ = log.to_pandas().plot()"
   ]
  },
  {
   "cell_type": "code",
   "execution_count": 20,
   "metadata": {},
   "outputs": [
    {
     "data": {
      "text/plain": [
       "0.8078713285829396"
      ]
     },
     "execution_count": 20,
     "metadata": {},
     "output_type": "execute_result"
    }
   ],
   "source": [
    "cox_sgd.concordance_index(df_test) # A common evaluation measures for proportional models."
   ]
  },
  {
   "cell_type": "markdown",
   "metadata": {},
   "source": [
    "# Cox-MLP\n",
    "\n",
    "Regular proportional Cox regression, but where $g(x)$ is an MLP.\n",
    "\n",
    "$h(t, x) = h_0(t) \\exp[g(x)]$\n",
    "\n",
    "We let the MLP have ReLU acitaatoins, 2 hidden layers, with 32 nodes in each layer, and batch norm between layers."
   ]
  },
  {
   "cell_type": "code",
   "execution_count": 21,
   "metadata": {},
   "outputs": [],
   "source": [
    "def relu_block(n_input, n_output):\n",
    "    net = nn.Sequential(nn.Linear(n_input, n_output),\n",
    "                        nn.ReLU(), \n",
    "                        nn.BatchNorm1d(n_output))\n",
    "    return net\n",
    "\n",
    "class ReluNet(nn.Module):\n",
    "    '''Simple ReLU net.\n",
    "\n",
    "    Parameters:\n",
    "        input_size: Input size.\n",
    "        n_layers: Number of layers.\n",
    "        n_nodes: Size of each layer.\n",
    "    '''\n",
    "    def __init__(self, input_size, n_layers, n_nodes):\n",
    "        super().__init__()\n",
    "        self.input_size = input_size\n",
    "        self.n_layers = n_layers\n",
    "        self.n_nodes = n_nodes\n",
    "        \n",
    "        self.first_module = relu_block(self.input_size, self.n_nodes)\n",
    "        mid_modules = [relu_block(self.n_nodes, self.n_nodes)\n",
    "                       for i in range(self.n_layers - 1)]\n",
    "        self.mid_modules = nn.Sequential(*mid_modules)\n",
    "        self.out_module = nn.Sequential(nn.Linear(self.n_nodes, 1, bias=False))\n",
    "\n",
    "    def forward(self, x):\n",
    "        out = self.first_module(x)\n",
    "        out = self.mid_modules(out)\n",
    "        out = self.out_module(out)\n",
    "        return out"
   ]
  },
  {
   "cell_type": "code",
   "execution_count": 22,
   "metadata": {},
   "outputs": [],
   "source": [
    "mlp_g = ReluNet(input_size, n_layers=2, n_nodes=32)"
   ]
  },
  {
   "cell_type": "code",
   "execution_count": 23,
   "metadata": {},
   "outputs": [
    {
     "data": {
      "text/plain": [
       "ReluNet(\n",
       "  (first_module): Sequential(\n",
       "    (0): Linear(in_features=3, out_features=32, bias=True)\n",
       "    (1): ReLU()\n",
       "    (2): BatchNorm1d(32, eps=1e-05, momentum=0.1, affine=True, track_running_stats=True)\n",
       "  )\n",
       "  (mid_modules): Sequential(\n",
       "    (0): Sequential(\n",
       "      (0): Linear(in_features=32, out_features=32, bias=True)\n",
       "      (1): ReLU()\n",
       "      (2): BatchNorm1d(32, eps=1e-05, momentum=0.1, affine=True, track_running_stats=True)\n",
       "    )\n",
       "  )\n",
       "  (out_module): Sequential(\n",
       "    (0): Linear(in_features=32, out_features=1, bias=False)\n",
       "  )\n",
       ")"
      ]
     },
     "execution_count": 23,
     "metadata": {},
     "output_type": "execute_result"
    }
   ],
   "source": [
    "mlp_g"
   ]
  },
  {
   "cell_type": "markdown",
   "metadata": {},
   "source": [
    "#### We can now specify the CoxPH model"
   ]
  },
  {
   "cell_type": "code",
   "execution_count": 24,
   "metadata": {},
   "outputs": [],
   "source": [
    "device = 'cuda' if torch.cuda.is_available() else 'cpu'\n",
    "device = torch.device(device)"
   ]
  },
  {
   "cell_type": "code",
   "execution_count": 25,
   "metadata": {},
   "outputs": [],
   "source": [
    "optimizer = optim.Adam(mlp_g.parameters())\n",
    "cox_mlp = CoxPH(mlp_g, optimizer, device)"
   ]
  },
  {
   "cell_type": "markdown",
   "metadata": {},
   "source": [
    "## Callbacks\n",
    "\n",
    "To monitor the training, we can use callbacks. This might be simpler than altering the trainig loop.\n",
    "\n",
    "We add:\n",
    "\n",
    "-  Monitor validation loss.\n",
    "-  Early stopping based on validation loss (this also saves the models).\n",
    "-  Decrease learning rate on val_loss plateau."
   ]
  },
  {
   "cell_type": "code",
   "execution_count": 26,
   "metadata": {},
   "outputs": [],
   "source": [
    "# n_reps repeats the sampling in the likelihood, making the measure more stable.\n",
    "val_loss = cb.MonitorCoxLoss(df_val, n_reps=5)\n",
    "es = cb.EarlyStopping(val_loss, patience=20, model_file_path='cox_mlp.torch')\n",
    "\n",
    "scheduler = optim.lr_scheduler.ReduceLROnPlateau(optimizer, factor=0.2, patience=10, verbose=True,\n",
    "                                                 threshold=1e-3, min_lr=1e-6)\n",
    "lr_sched = cb.LRScheduler(scheduler, val_loss)\n",
    "callbacks = [val_loss, es, lr_sched]"
   ]
  },
  {
   "cell_type": "code",
   "execution_count": 27,
   "metadata": {},
   "outputs": [
    {
     "name": "stdout",
     "output_type": "stream",
     "text": [
      "Epoch    24: reducing learning rate of group 0 to 2.0000e-04.\n",
      "CPU times: user 13.5 s, sys: 853 ms, total: 14.3 s\n",
      "Wall time: 7.14 s\n"
     ]
    }
   ],
   "source": [
    "%%time\n",
    "log = cox_mlp.fit(df_train, 'time', 'event', batch_size=128, epochs=500, verbose=False,\n",
    "                  callbacks=callbacks)"
   ]
  },
  {
   "cell_type": "code",
   "execution_count": 28,
   "metadata": {},
   "outputs": [
    {
     "data": {
      "image/png": "[encoded data removed]",
      "text/plain": [
       "<Figure size 432x288 with 1 Axes>"
      ]
     },
     "metadata": {},
     "output_type": "display_data"
    }
   ],
   "source": [
    "_ = (log.to_pandas()\n",
    "     .join(val_loss.to_pandas().rename(columns={'loss': 'val_loss'}))\n",
    "     .plot())"
   ]
  },
  {
   "cell_type": "code",
   "execution_count": 29,
   "metadata": {},
   "outputs": [
    {
     "data": {
      "text/plain": [
       "0.8422605975384324"
      ]
     },
     "execution_count": 29,
     "metadata": {},
     "output_type": "execute_result"
    }
   ],
   "source": [
    "cox_mlp.concordance_index(df_test)"
   ]
  },
  {
   "cell_type": "markdown",
   "metadata": {},
   "source": [
    "#### Load best model\n",
    "To retreive the model, we need to recalculate the baseline."
   ]
  },
  {
   "cell_type": "code",
   "execution_count": 30,
   "metadata": {},
   "outputs": [
    {
     "name": "stderr",
     "output_type": "stream",
     "text": [
      "/Users/havard/packages/pycox/pycox/models/cox.py:282: UserWarning: Might need to transfer to cuda???\n",
      "  warnings.warn('Might need to transfer to cuda???')\n",
      "/Users/havard/packages/pycox/pycox/models/cox.py:283: UserWarning: Need to recompute baseline hazards after loading.\n",
      "  warnings.warn('Need to recompute baseline hazards after loading.')\n",
      "/Users/havard/packages/pycox/pycox/models/cox.py:284: UserWarning: Might need to set optim again!\n",
      "  warnings.warn('Might need to set optim again!')\n"
     ]
    }
   ],
   "source": [
    "cox_mlp.load_model_weights('cox_mlp.torch')\n",
    "_ = cox_mlp.compute_baseline_hazards()"
   ]
  },
  {
   "cell_type": "code",
   "execution_count": 31,
   "metadata": {},
   "outputs": [
    {
     "data": {
      "text/plain": [
       "0.8386172246535952"
      ]
     },
     "execution_count": 31,
     "metadata": {},
     "output_type": "execute_result"
    }
   ],
   "source": [
    "cox_mlp.concordance_index(df_test)"
   ]
  },
  {
   "cell_type": "markdown",
   "metadata": {},
   "source": [
    "### Plot survival curves\n"
   ]
  },
  {
   "cell_type": "code",
   "execution_count": 32,
   "metadata": {},
   "outputs": [],
   "source": [
    "sub = df_test.sample(6)"
   ]
  },
  {
   "cell_type": "code",
   "execution_count": 33,
   "metadata": {},
   "outputs": [],
   "source": [
    "surv_preds = cox_mlp.predict_survival_function(sub)"
   ]
  },
  {
   "cell_type": "markdown",
   "metadata": {},
   "source": [
    "If we have scaled the time (which is only necessary for the CoxTime models), we can compute the inverse scaling."
   ]
  },
  {
   "cell_type": "code",
   "execution_count": 34,
   "metadata": {},
   "outputs": [
    {
     "data": {
      "image/png": "[encoded data removed]",
      "text/plain": [
       "<Figure size 432x288 with 1 Axes>"
      ]
     },
     "metadata": {},
     "output_type": "display_data"
    }
   ],
   "source": [
    "orig_scale = mapper.inverse_duration(surv_preds.index)\n",
    "surv_preds = surv_preds.set_index(orig_scale)\n",
    "surv_preds.plot()\n",
    "plt.ylabel('S(t)')\n",
    "_ = plt.xlabel('time')"
   ]
  },
  {
   "cell_type": "markdown",
   "metadata": {},
   "source": [
    "## Sidenote: Printing training progress\n",
    "\n",
    "To print the trainig progress, we can specify what to print in the verbose argument."
   ]
  },
  {
   "cell_type": "code",
   "execution_count": 35,
   "metadata": {},
   "outputs": [],
   "source": [
    "cox_mlp_2 = CoxPH(ReluNet(input_size, n_layers=2, n_nodes=32), device='cpu')\n",
    "val_loss_2 = cb.MonitorCoxLoss(df_val, n_reps=5)"
   ]
  },
  {
   "cell_type": "code",
   "execution_count": 36,
   "metadata": {},
   "outputs": [
    {
     "name": "stdout",
     "output_type": "stream",
     "text": [
      "Epoch: 0,\ttime: 0 sec,\ttrain_loss: 0.5344\n",
      "Epoch: 1,\ttime: 0 sec,\ttrain_loss: 0.4498\n",
      "Epoch: 2,\ttime: 0 sec,\ttrain_loss: 0.4373\n",
      "Epoch: 3,\ttime: 0 sec,\ttrain_loss: 0.4246\n",
      "Epoch: 4,\ttime: 0 sec,\ttrain_loss: 0.4164\n",
      "CPU times: user 1.98 s, sys: 92.6 ms, total: 2.08 s\n",
      "Wall time: 947 ms\n"
     ]
    }
   ],
   "source": [
    "%%time\n",
    "log = cox_mlp_2.fit(df_train, 'time', 'event', batch_size=128, epochs=5, callbacks=[val_loss_2], \n",
    "                    verbose=True)"
   ]
  },
  {
   "cell_type": "code",
   "execution_count": 37,
   "metadata": {},
   "outputs": [
    {
     "data": {
      "image/png": "[encoded data removed]",
      "text/plain": [
       "<Figure size 432x288 with 1 Axes>"
      ]
     },
     "metadata": {},
     "output_type": "display_data"
    }
   ],
   "source": [
    "_ = log.to_pandas().plot()"
   ]
  },
  {
   "cell_type": "code",
   "execution_count": 38,
   "metadata": {},
   "outputs": [
    {
     "name": "stdout",
     "output_type": "stream",
     "text": [
      "Epoch: 5,\ttime: 0 sec,\ttrain_loss: 0.4079,\tval_loss: 0.4660\n",
      "Epoch: 6,\ttime: 0 sec,\ttrain_loss: 0.4094,\tval_loss: 0.4502\n",
      "Epoch: 7,\ttime: 0 sec,\ttrain_loss: 0.4111,\tval_loss: 0.4594\n",
      "Epoch: 8,\ttime: 0 sec,\ttrain_loss: 0.4259,\tval_loss: 0.4454\n",
      "Epoch: 9,\ttime: 0 sec,\ttrain_loss: 0.4223,\tval_loss: 0.4505\n",
      "CPU times: user 1.89 s, sys: 94.1 ms, total: 1.99 s\n",
      "Wall time: 793 ms\n"
     ]
    }
   ],
   "source": [
    "%%time\n",
    "log = cox_mlp_2.fit(df_train, 'time', 'event', batch_size=128, epochs=5, callbacks=[val_loss_2], \n",
    "                    verbose={'val_loss': val_loss_2})"
   ]
  },
  {
   "cell_type": "code",
   "execution_count": 39,
   "metadata": {},
   "outputs": [
    {
     "data": {
      "image/png": "[encoded data removed]",
      "text/plain": [
       "<Figure size 432x288 with 1 Axes>"
      ]
     },
     "metadata": {},
     "output_type": "display_data"
    }
   ],
   "source": [
    "_ = log.to_pandas().plot()"
   ]
  },
  {
   "cell_type": "markdown",
   "metadata": {},
   "source": [
    "# Cox-Time\n",
    "\n",
    "We repeat everyting with the Cox-Time model.\n",
    "\n",
    "This model has no longer proportional hazards, but a time dependent $g(x, t)$.\n",
    "\n",
    "$h(t, x) = h_0(t) \\exp[g(x, t)]$"
   ]
  },
  {
   "cell_type": "markdown",
   "metadata": {},
   "source": [
    "We need larger inputsize size time is noe a covariate."
   ]
  },
  {
   "cell_type": "code",
   "execution_count": 40,
   "metadata": {},
   "outputs": [],
   "source": [
    "input_size_time = input_size + 1\n",
    "mlp_g = ReluNet(input_size_time, n_layers=2, n_nodes=32)\n",
    "optimizer = optim.Adam(mlp_g.parameters())\n",
    "cox_time = CoxTime(mlp_g, optimizer, device)"
   ]
  },
  {
   "cell_type": "code",
   "execution_count": 41,
   "metadata": {},
   "outputs": [],
   "source": [
    "# NOTE!!!!\n",
    "#    We use a different callback for val_loss in CoxTime!!!!!!!!!!\n",
    "val_loss_time = cb.MonitorCoxTimeLoss(df_val, n_reps=5)\n",
    "es = cb.EarlyStopping(val_loss_time, patience=20, model_file_path='cox_time.torch')\n",
    "\n",
    "scheduler = optim.lr_scheduler.ReduceLROnPlateau(optimizer, factor=0.2, patience=10, verbose=True,\n",
    "                                                 threshold=1e-3, min_lr=1e-6)\n",
    "lr_sched = cb.LRScheduler(scheduler, val_loss_time)\n",
    "callbacks = [val_loss_time, es, lr_sched]"
   ]
  },
  {
   "cell_type": "code",
   "execution_count": 42,
   "metadata": {},
   "outputs": [
    {
     "name": "stdout",
     "output_type": "stream",
     "text": [
      "Epoch    34: reducing learning rate of group 0 to 2.0000e-04.\n",
      "Epoch    51: reducing learning rate of group 0 to 4.0000e-05.\n",
      "Epoch    70: reducing learning rate of group 0 to 8.0000e-06.\n",
      "CPU times: user 40.9 s, sys: 1.7 s, total: 42.6 s\n",
      "Wall time: 18 s\n"
     ]
    }
   ],
   "source": [
    "%%time\n",
    "log = cox_time.fit(df_train, 'time', 'event', batch_size=128, epochs=500, verbose=False,\n",
    "                  callbacks=callbacks)"
   ]
  },
  {
   "cell_type": "code",
   "execution_count": 43,
   "metadata": {},
   "outputs": [
    {
     "data": {
      "image/png": "[encoded data removed]",
      "text/plain": [
       "<Figure size 432x288 with 1 Axes>"
      ]
     },
     "metadata": {},
     "output_type": "display_data"
    }
   ],
   "source": [
    "_ = (log.to_pandas()\n",
    "     .join(val_loss_time.to_pandas().rename(columns={'loss': 'val_loss'}))\n",
    "     .plot())"
   ]
  },
  {
   "cell_type": "markdown",
   "metadata": {},
   "source": [
    "### Comparing val_loss with Cox-MLP"
   ]
  },
  {
   "cell_type": "code",
   "execution_count": 44,
   "metadata": {},
   "outputs": [
    {
     "data": {
      "image/png": "[encoded data removed]",
      "text/plain": [
       "<Figure size 432x288 with 1 Axes>"
      ]
     },
     "metadata": {},
     "output_type": "display_data"
    }
   ],
   "source": [
    "(val_loss.to_pandas()\n",
    " .join(val_loss_time.to_pandas(), how='outer', lsuffix='_mlp', rsuffix='_time')\n",
    " .plot())\n",
    "None"
   ]
  },
  {
   "cell_type": "markdown",
   "metadata": {},
   "source": [
    "#### Load best model\n",
    "\n",
    "When calculating the baseline, we suggest that we only use a sample of the trainingset. If not, it will be very computational."
   ]
  },
  {
   "cell_type": "code",
   "execution_count": 45,
   "metadata": {},
   "outputs": [
    {
     "name": "stderr",
     "output_type": "stream",
     "text": [
      "/Users/havard/packages/pycox/pycox/models/cox.py:282: UserWarning: Might need to transfer to cuda???\n",
      "  warnings.warn('Might need to transfer to cuda???')\n",
      "/Users/havard/packages/pycox/pycox/models/cox.py:283: UserWarning: Need to recompute baseline hazards after loading.\n",
      "  warnings.warn('Need to recompute baseline hazards after loading.')\n",
      "/Users/havard/packages/pycox/pycox/models/cox.py:284: UserWarning: Might need to set optim again!\n",
      "  warnings.warn('Might need to set optim again!')\n"
     ]
    },
    {
     "name": "stdout",
     "output_type": "stream",
     "text": [
      "CPU times: user 16.3 s, sys: 412 ms, total: 16.7 s\n",
      "Wall time: 10.7 s\n"
     ]
    }
   ],
   "source": [
    "%%time\n",
    "cox_time.load_model_weights('cox_time.torch')\n",
    "_ = cox_time.compute_baseline_hazards(sample=3000)"
   ]
  },
  {
   "cell_type": "markdown",
   "metadata": {},
   "source": [
    "### Plot survival curves"
   ]
  },
  {
   "cell_type": "code",
   "execution_count": 46,
   "metadata": {},
   "outputs": [
    {
     "data": {
      "image/png": "[encoded data removed]",
      "text/plain": [
       "<Figure size 432x288 with 1 Axes>"
      ]
     },
     "metadata": {},
     "output_type": "display_data"
    }
   ],
   "source": [
    "surv_preds_time = cox_time.predict_survival_function(sub)\n",
    "orig_scale = mapper.inverse_duration(surv_preds_time.index)\n",
    "surv_preds_time = surv_preds_time.set_index(orig_scale)\n",
    "surv_preds_time.plot()\n",
    "plt.ylabel('S(t)')\n",
    "_ = plt.xlabel('time')"
   ]
  },
  {
   "cell_type": "markdown",
   "metadata": {},
   "source": [
    "# Get binary predictions\n",
    "\n",
    "We now create a binary dataset at time 15.\n",
    "Hence, we label events prior to 15 as True, and events after 15 as False.\n",
    "\n",
    "We also need to remove individuals censored before time 15."
   ]
  },
  {
   "cell_type": "code",
   "execution_count": 47,
   "metadata": {},
   "outputs": [],
   "source": [
    "time = 15.\n",
    "t_time = mapper.transform_duration(time).values[0] # Transformed time"
   ]
  },
  {
   "cell_type": "markdown",
   "metadata": {},
   "source": [
    "#### Create a dataset with labels, and censored individuals are removed"
   ]
  },
  {
   "cell_type": "code",
   "execution_count": 48,
   "metadata": {},
   "outputs": [],
   "source": [
    "df_test_15 = (df_test\n",
    "              .assign(label=lambda x: x['time'] < t_time)\n",
    "              .assign(cencored=lambda x: x['label'] & (x['event'] == False))\n",
    "              .loc[lambda x: x['cencored']==False]\n",
    "              .drop('cencored', axis=1)\n",
    "             )"
   ]
  },
  {
   "cell_type": "code",
   "execution_count": 49,
   "metadata": {},
   "outputs": [
    {
     "data": {
      "text/html": [
       "<div>\n",
       "<style scoped>\n",
       "    .dataframe tbody tr th:only-of-type {\n",
       "        vertical-align: middle;\n",
       "    }\n",
       "\n",
       "    .dataframe tbody tr th {\n",
       "        vertical-align: top;\n",
       "    }\n",
       "\n",
       "    .dataframe thead th {\n",
       "        text-align: right;\n",
       "    }\n",
       "</style>\n",
       "<table border=\"1\" class=\"dataframe\">\n",
       "  <thead>\n",
       "    <tr style=\"text-align: right;\">\n",
       "      <th></th>\n",
       "      <th>x0</th>\n",
       "      <th>x1</th>\n",
       "      <th>x2</th>\n",
       "      <th>time</th>\n",
       "      <th>event</th>\n",
       "      <th>label</th>\n",
       "    </tr>\n",
       "  </thead>\n",
       "  <tbody>\n",
       "    <tr>\n",
       "      <th>0</th>\n",
       "      <td>-1.618569</td>\n",
       "      <td>1.592340</td>\n",
       "      <td>0.243331</td>\n",
       "      <td>-0.348070</td>\n",
       "      <td>True</td>\n",
       "      <td>True</td>\n",
       "    </tr>\n",
       "    <tr>\n",
       "      <th>1</th>\n",
       "      <td>0.787524</td>\n",
       "      <td>-0.926247</td>\n",
       "      <td>-1.648152</td>\n",
       "      <td>0.758731</td>\n",
       "      <td>True</td>\n",
       "      <td>False</td>\n",
       "    </tr>\n",
       "    <tr>\n",
       "      <th>2</th>\n",
       "      <td>0.968812</td>\n",
       "      <td>-0.941664</td>\n",
       "      <td>0.329002</td>\n",
       "      <td>-0.014225</td>\n",
       "      <td>True</td>\n",
       "      <td>True</td>\n",
       "    </tr>\n",
       "    <tr>\n",
       "      <th>4</th>\n",
       "      <td>1.726448</td>\n",
       "      <td>-1.479365</td>\n",
       "      <td>1.072847</td>\n",
       "      <td>-0.609938</td>\n",
       "      <td>True</td>\n",
       "      <td>True</td>\n",
       "    </tr>\n",
       "    <tr>\n",
       "      <th>5</th>\n",
       "      <td>1.127898</td>\n",
       "      <td>-0.662604</td>\n",
       "      <td>1.015563</td>\n",
       "      <td>0.187790</td>\n",
       "      <td>True</td>\n",
       "      <td>True</td>\n",
       "    </tr>\n",
       "  </tbody>\n",
       "</table>\n",
       "</div>"
      ],
      "text/plain": [
       "         x0        x1        x2      time  event  label\n",
       "0 -1.618569  1.592340  0.243331 -0.348070   True   True\n",
       "1  0.787524 -0.926247 -1.648152  0.758731   True  False\n",
       "2  0.968812 -0.941664  0.329002 -0.014225   True   True\n",
       "4  1.726448 -1.479365  1.072847 -0.609938   True   True\n",
       "5  1.127898 -0.662604  1.015563  0.187790   True   True"
      ]
     },
     "execution_count": 49,
     "metadata": {},
     "output_type": "execute_result"
    }
   ],
   "source": [
    "df_test_15.head()"
   ]
  },
  {
   "cell_type": "markdown",
   "metadata": {},
   "source": [
    "#### Get predictions"
   ]
  },
  {
   "cell_type": "code",
   "execution_count": 50,
   "metadata": {},
   "outputs": [
    {
     "name": "stdout",
     "output_type": "stream",
     "text": [
      "CPU times: user 10.7 s, sys: 270 ms, total: 11 s\n",
      "Wall time: 6.61 s\n"
     ]
    }
   ],
   "source": [
    "%%time\n",
    "surv_15 = cox_time.predict_survival_at_times(t_time, df_test_15)"
   ]
  },
  {
   "cell_type": "code",
   "execution_count": 51,
   "metadata": {},
   "outputs": [],
   "source": [
    "preds = 1 - surv_15.values.flatten()\n",
    "true = df_test_15['label'].values"
   ]
  },
  {
   "cell_type": "markdown",
   "metadata": {},
   "source": [
    "#### Get accuracy and ROC AUC"
   ]
  },
  {
   "cell_type": "code",
   "execution_count": 52,
   "metadata": {},
   "outputs": [],
   "source": [
    "from sklearn import metrics"
   ]
  },
  {
   "cell_type": "code",
   "execution_count": 53,
   "metadata": {},
   "outputs": [
    {
     "data": {
      "text/plain": [
       "0.8724559023066486"
      ]
     },
     "execution_count": 53,
     "metadata": {},
     "output_type": "execute_result"
    }
   ],
   "source": [
    "metrics.accuracy_score(true, preds > 0.5)"
   ]
  },
  {
   "cell_type": "code",
   "execution_count": 54,
   "metadata": {},
   "outputs": [
    {
     "data": {
      "text/plain": [
       "0.9390985540756693"
      ]
     },
     "execution_count": 54,
     "metadata": {},
     "output_type": "execute_result"
    }
   ],
   "source": [
    "metrics.roc_auc_score(true, preds)"
   ]
  },
  {
   "cell_type": "markdown",
   "metadata": {},
   "source": [
    "### ... and for Cox-MLP"
   ]
  },
  {
   "cell_type": "code",
   "execution_count": 55,
   "metadata": {},
   "outputs": [
    {
     "name": "stdout",
     "output_type": "stream",
     "text": [
      "CPU times: user 9.95 ms, sys: 3.18 ms, total: 13.1 ms\n",
      "Wall time: 6.77 ms\n"
     ]
    }
   ],
   "source": [
    "%%time\n",
    "surv_15 = cox_mlp.predict_survival_at_times(t_time, df_test_15)"
   ]
  },
  {
   "cell_type": "code",
   "execution_count": 56,
   "metadata": {},
   "outputs": [],
   "source": [
    "preds = 1 - surv_15.values.flatten()"
   ]
  },
  {
   "cell_type": "code",
   "execution_count": 57,
   "metadata": {},
   "outputs": [
    {
     "data": {
      "text/plain": [
       "0.8656716417910447"
      ]
     },
     "execution_count": 57,
     "metadata": {},
     "output_type": "execute_result"
    }
   ],
   "source": [
    "metrics.accuracy_score(true, preds > 0.5)"
   ]
  },
  {
   "cell_type": "code",
   "execution_count": 58,
   "metadata": {},
   "outputs": [
    {
     "data": {
      "text/plain": [
       "0.9363983339404209"
      ]
     },
     "execution_count": 58,
     "metadata": {},
     "output_type": "execute_result"
    }
   ],
   "source": [
    "metrics.roc_auc_score(true, preds)"
   ]
  },
  {
   "cell_type": "markdown",
   "metadata": {},
   "source": [
    "### ... and for Cox-SGD"
   ]
  },
  {
   "cell_type": "code",
   "execution_count": 59,
   "metadata": {},
   "outputs": [
    {
     "name": "stdout",
     "output_type": "stream",
     "text": [
      "CPU times: user 4.58 ms, sys: 1.35 ms, total: 5.93 ms\n",
      "Wall time: 5.25 ms\n"
     ]
    }
   ],
   "source": [
    "%%time\n",
    "surv_15 = cox_sgd.predict_survival_at_times(t_time, df_test_15)"
   ]
  },
  {
   "cell_type": "code",
   "execution_count": 60,
   "metadata": {},
   "outputs": [],
   "source": [
    "preds = 1 - surv_15.values.flatten()"
   ]
  },
  {
   "cell_type": "code",
   "execution_count": 61,
   "metadata": {},
   "outputs": [
    {
     "data": {
      "text/plain": [
       "0.8018995929443691"
      ]
     },
     "execution_count": 61,
     "metadata": {},
     "output_type": "execute_result"
    }
   ],
   "source": [
    "metrics.accuracy_score(true, preds > 0.5)"
   ]
  },
  {
   "cell_type": "code",
   "execution_count": 62,
   "metadata": {},
   "outputs": [
    {
     "data": {
      "text/plain": [
       "0.8794086438718465"
      ]
     },
     "execution_count": 62,
     "metadata": {},
     "output_type": "execute_result"
    }
   ],
   "source": [
    "metrics.roc_auc_score(true, preds)"
   ]
  }
 ],
 "metadata": {
  "kernelspec": {
   "display_name": "Python 3",
   "language": "python",
   "name": "python3"
  },
  "language_info": {
   "codemirror_mode": {
    "name": "ipython",
    "version": 3
   },
   "file_extension": ".py",
   "mimetype": "text/x-python",
   "name": "python",
   "nbconvert_exporter": "python",
   "pygments_lexer": "ipython3",
   "version": "3.6.5"
  }
 },
 "nbformat": 4,
 "nbformat_minor": 2
}
